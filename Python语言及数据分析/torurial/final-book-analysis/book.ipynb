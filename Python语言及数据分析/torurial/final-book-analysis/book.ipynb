{
 "cells": [
  {
   "cell_type": "markdown",
   "metadata": {},
   "source": [
    "### 数据统计与分析"
   ]
  },
  {
   "cell_type": "code",
   "execution_count": null,
   "metadata": {},
   "outputs": [],
   "source": [
    "import re \n",
    "import numpy as np\n",
    "import pandas as pd\n",
    "import jieba \n",
    "\n",
    "from wordcloud import WordCloud"
   ]
  },
  {
   "cell_type": "code",
   "execution_count": null,
   "metadata": {},
   "outputs": [],
   "source": [
    "file_path = './data.csv'\n",
    "data = pd.read_csv(file_path)"
   ]
  },
  {
   "cell_type": "markdown",
   "metadata": {},
   "source": [
    "> 标题的词云"
   ]
  },
  {
   "cell_type": "code",
   "execution_count": null,
   "metadata": {},
   "outputs": [],
   "source": [
    "TITLE_FILE_NAME = './temp/titles.txt'\n",
    "\n",
    "fp_title = open(TITLE_FILE_NAME, 'w+' , encoding='utf-8')\n",
    "titles = data['标题']\n",
    "for title in titles:\n",
    "  fp_title.write(title[title.find('（'):] if title.find('（') != -1 else ' ')\n",
    "\n",
    "# 把标题写入文件\n",
    "fp_title.close()\n",
    "\n",
    "# 修正标题\n",
    "data['标题'] = data['标题'].apply(lambda x: x[:x.find('（')] if x.find('（') != -1 else x)\n",
    "data['标题'] = data['标题'].apply(lambda x: x[:x.find(' ')] if x.find(' ') != -1 else x)"
   ]
  },
  {
   "cell_type": "code",
   "execution_count": null,
   "metadata": {},
   "outputs": [],
   "source": [
    "# 注意到获取的页面内容中有html的标签和其他符号存在，不利于下一步的词云操作，所以需要利用jieba和正则表达式对得到的文本进行清洗\n",
    "r ='[，。\\%、；1234567890n-】【“”]《》（）'\n",
    "\n",
    "file=open(TITLE_FILE_NAME, \"r\", encoding='utf-8').read()\n",
    "\n",
    "# 剔除无关信息\n",
    "file =re.sub(r,'',file)\n",
    "# 删除中文无关词汇\n",
    "chinese_char = '[的版]'\n",
    "file = re.sub(chinese_char,'',file)\n",
    "\n",
    "#分词\n",
    "con = jieba.lcut(file)\n",
    "\n",
    "#分词后插入空格\n",
    "words = \" \".join(con)\n",
    "\n",
    "#词云分析\n",
    "wordcloud = WordCloud(font_path=\"./assets/SanJiXingShuJianTi-2.ttf\",background_color=\"white\",width=1300, height=800).generate(words)\n",
    "\n",
    "wordcloud.to_file('./assets/title_cloud.png') "
   ]
  },
  {
   "cell_type": "markdown",
   "metadata": {},
   "source": [
    "<!-- ![](./assets/title_cloud.png) -->\n",
    "\n",
    "从词云图中可以看出消费者更加倾向于购买标题中含有“全册”、“推荐”、“代表作”等词的书籍\n"
   ]
  },
  {
   "cell_type": "markdown",
   "metadata": {},
   "source": [
    "> --全局参数配置--"
   ]
  },
  {
   "cell_type": "code",
   "execution_count": null,
   "metadata": {},
   "outputs": [],
   "source": [
    "from pyecharts import options as opts\n",
    "from pyecharts.globals import ThemeType\n",
    "from pyecharts.components import Table\n",
    "from pyecharts.options import ComponentTitleOpts\n",
    "from pyecharts.charts import Pie\n",
    "from pyecharts.charts import Bar\n",
    "from pyecharts.charts import Page\n",
    "from pyecharts.charts import WordCloud\n",
    "from pyecharts.globals import SymbolType"
   ]
  },
  {
   "cell_type": "code",
   "execution_count": null,
   "metadata": {},
   "outputs": [],
   "source": [
    "# 全局主题\n",
    "GLOBAL_THEME = ThemeType.LIGHT\n",
    "# 全局词云主题\n",
    "GLOBAL_WORDCLOUD_THEME = SymbolType.RECT\n",
    "# 全局高度\n",
    "GLOBAL_WIDTH = '900px'\n",
    "# 全局宽度\n",
    "GLOBAL_HEIGHT = '600px'\n",
    "# 词云宽度\n",
    "WORDCLOUD_WIDTH = \"900px\"\n",
    "# 词云高度\n",
    "WORDCLOUD_HEIGHT = \"600px\""
   ]
  },
  {
   "cell_type": "markdown",
   "metadata": {},
   "source": [
    "> 评论数量统计分析"
   ]
  },
  {
   "cell_type": "code",
   "execution_count": null,
   "metadata": {},
   "outputs": [],
   "source": [
    "# 排序后的DataFrame\n",
    "data_sort_by_comment = data.sort_values('评论数量', ascending=False)\n",
    "\n",
    "# 评论数量最多的 top10、30\n",
    "# data_sort_by_comment.head(10)"
   ]
  },
  {
   "cell_type": "code",
   "execution_count": null,
   "metadata": {},
   "outputs": [],
   "source": [
    "# 生成数据\n",
    "data_sort_by_comment.head(10)\n",
    "\n",
    "title_and_comments_top = pd.DataFrame()\n",
    "title_and_comments_top['标题'] = data_sort_by_comment.head(10)['标题']\n",
    "title_and_comments_top['评论数量']  = data_sort_by_comment.head(10)['评论数量']\n",
    "\n",
    "# 评论前5和后5的数量和标题\n",
    "# title_and_comments_top"
   ]
  },
  {
   "cell_type": "code",
   "execution_count": null,
   "metadata": {},
   "outputs": [],
   "source": [
    "# 表格\n",
    "table_comment_top = Table()\n",
    "\n",
    "headers = [\"书名\", \"评论数量\"]\n",
    "rows = [[i[0], i[1]] for i in np.array(title_and_comments_top)]\n",
    "table_comment_top.add(headers, rows)\n",
    "table_comment_top.set_global_opts(\n",
    "    title_opts=ComponentTitleOpts(title=\"评论数量最多的10本书\")\n",
    ")\n",
    "table_comment_top.render(\"./temp/table_comment_number.html\")\n",
    "\n",
    "# 柱状图\n",
    "bar_comment_top = (\n",
    "    Bar(init_opts=opts.InitOpts(theme=GLOBAL_THEME, width=GLOBAL_WIDTH, height=GLOBAL_HEIGHT))\n",
    "    .add_xaxis([i[0] for i in rows])\n",
    "    .add_yaxis(\"评论数量\", [i[1] for i in rows], category_gap=\"50%\")\n",
    "    .set_global_opts(\n",
    "        title_opts=opts.TitleOpts(title=\"前10评论数量\"),\n",
    "        datazoom_opts=opts.DataZoomOpts(range_start=0, range_end=80),\n",
    "        xaxis_opts=opts.AxisOpts(axislabel_opts=opts.LabelOpts(rotate=-15)),\n",
    "        )\n",
    "    .render(\"./temp/bar_comment_number.html\")\n",
    ")"
   ]
  },
  {
   "cell_type": "markdown",
   "metadata": {},
   "source": [
    "> top10出版社以及上榜的书籍"
   ]
  },
  {
   "cell_type": "code",
   "execution_count": null,
   "metadata": {},
   "outputs": [],
   "source": [
    "data_groupby_publisher = data.groupby(['出版社'])\n",
    "\n",
    "# 将 DataFrameGroupBy 转换为 array 类型\n",
    "# 然后再每一个group（出版社）中添加这个出版社一共出版的图书\n",
    "# 然后把这个array按照出版图书的降序排序\n",
    "\n",
    "publisher_with_rank = np.array([np.insert(i, 0, i[1].shape[0]) for i in np.array([list(i) for i in list(data_groupby_publisher)], dtype=object)])\n",
    "publisher_with_rank = publisher_with_rank[publisher_with_rank[:,0].argsort()][::-1]\n",
    "\n",
    "# 所有出版社按照上榜图书排序和他们的图书\n",
    "# publisher_with_rank\n"
   ]
  },
  {
   "cell_type": "code",
   "execution_count": null,
   "metadata": {},
   "outputs": [],
   "source": [
    "# 词云\n",
    "words = [(item[1], item[0]) for item in publisher_with_rank]\n",
    "\n",
    "wordcloud_publisher = (\n",
    "    WordCloud()\n",
    "    .add(\"\", words, word_size_range=[2, 80], shape=GLOBAL_WORDCLOUD_THEME, width=WORDCLOUD_WIDTH, height=WORDCLOUD_HEIGHT)\n",
    "    .set_global_opts(title_opts=opts.TitleOpts(title=\"\"))\n",
    ")\n",
    "    # .render(\"./temp/wordcould_publisher.html\")"
   ]
  },
  {
   "cell_type": "code",
   "execution_count": null,
   "metadata": {},
   "outputs": [],
   "source": [
    "# 排行前10的出版社\n",
    "publisher_top_10 = publisher_with_rank[:10]\n",
    "\n",
    "publishers = [i[1] for i in publisher_top_10]\n",
    "publisher_books_number = [i[0] for i in publisher_top_10]\n",
    "\n",
    "publishers.append('其他')\n",
    "publisher_books_number.append(int(500 - np.sum(publisher_books_number)))"
   ]
  },
  {
   "cell_type": "code",
   "execution_count": null,
   "metadata": {},
   "outputs": [],
   "source": [
    "# 表格\n",
    "# table_publisher = Table()\n",
    "\n",
    "# headers = [\"出版社\", \"热销图书\"]\n",
    "# rows = [ list(z) for z in zip(publishers, publisher_books_number)]\n",
    "# table_publisher.add(headers, rows)\n",
    "# table_publisher.set_global_opts(\n",
    "#     title_opts=ComponentTitleOpts(title=\"热销前10的出版社\")\n",
    "# )\n",
    "# table_publisher.render(\"./temp/table_publisher_top.html\")"
   ]
  },
  {
   "cell_type": "code",
   "execution_count": null,
   "metadata": {},
   "outputs": [],
   "source": [
    "# 饼图\n",
    "pie_publisher = (\n",
    "    Pie(\n",
    "        init_opts=opts.InitOpts(theme=GLOBAL_THEME, width=GLOBAL_WIDTH, height=GLOBAL_HEIGHT)\n",
    "    )\n",
    "    .add(\n",
    "        \"\",\n",
    "        [list(z) for z in zip(publishers, publisher_books_number)],\n",
    "        radius=[\"40%\", \"55%\"],\n",
    "        label_opts=opts.LabelOpts(\n",
    "            position=\"outside\",\n",
    "            formatter=\"{b|{b}: }{c}  {per|{d}%}  \",\n",
    "            background_color=\"#eee\",\n",
    "            border_color=\"#aaa\",\n",
    "            border_width=1,\n",
    "            border_radius=4,\n",
    "            rich={\n",
    "                \"b\": {\"fontSize\": 16, \"lineHeight\": 33},\n",
    "                \"per\": {\n",
    "                    \"color\": \"#eee\",\n",
    "                    \"backgroundColor\": \"#334455\",\n",
    "                    \"padding\": [2, 4],\n",
    "                    \"borderRadius\": 2,\n",
    "                },\n",
    "            },\n",
    "        ),\n",
    "    )\n",
    ")\n",
    "    # .render(\"./temp/pie_publisher.html\")"
   ]
  },
  {
   "cell_type": "markdown",
   "metadata": {},
   "source": [
    "> 一类图书类别统计"
   ]
  },
  {
   "cell_type": "code",
   "execution_count": null,
   "metadata": {},
   "outputs": [],
   "source": [
    "data_groupby_type_1 = data.groupby(['类别1'])\n",
    "type_1_book_group = np.array([np.insert(i, 0, i[1].shape[0]) for i in np.array([list(i) for i in list(data_groupby_type_1)], dtype=object)])\n",
    "type_1_book_group = type_1_book_group[type_1_book_group[:,0].argsort()][::-1]\n",
    "\n",
    "# 所有1级分类和分类下面的图书\n",
    "# type_1_book_group\n",
    "\n",
    "# 保留前5个分类下面的标签\n",
    "TYPE_1_COUNT = 5\n",
    "\n",
    "type_1_labels = [i[1] for i in type_1_book_group]\n",
    "type_1_count = [i[0] for i in type_1_book_group]"
   ]
  },
  {
   "cell_type": "code",
   "execution_count": null,
   "metadata": {},
   "outputs": [],
   "source": [
    "# 词云\n",
    "words = [tuple([item[0], item[1]]) for item in zip(type_1_labels, type_1_count)]\n",
    "\n",
    "wordcloud_type1 = (\n",
    "    WordCloud()\n",
    "    .add(\"\", words, word_size_range=[30, 80], shape=GLOBAL_WORDCLOUD_THEME, width=WORDCLOUD_WIDTH, height=WORDCLOUD_HEIGHT)\n",
    "    .set_global_opts(title_opts=opts.TitleOpts(title=\"\"))\n",
    ")\n",
    "    # .render(\"./temp/wordcould_type1.html\")"
   ]
  },
  {
   "cell_type": "code",
   "execution_count": null,
   "metadata": {},
   "outputs": [],
   "source": [
    "type_1_labels = type_1_labels[:TYPE_1_COUNT]\n",
    "type_1_labels.append('其他')\n",
    "temp = int(500 - np.sum(type_1_count[:TYPE_1_COUNT])) # 转换成int即可\n",
    "type_1_count = type_1_count[:TYPE_1_COUNT]\n",
    "type_1_count.append(temp)"
   ]
  },
  {
   "cell_type": "code",
   "execution_count": null,
   "metadata": {},
   "outputs": [],
   "source": [
    "pie_type_1 = (\n",
    "    Pie(\n",
    "        init_opts=opts.InitOpts(theme=GLOBAL_THEME, width=GLOBAL_WIDTH, height=GLOBAL_HEIGHT)\n",
    "    )\n",
    "    .add(\n",
    "        \"\",\n",
    "        [list(z) for z in zip(type_1_labels, type_1_count)],\n",
    "        radius=[\"40%\", \"55%\"],\n",
    "        label_opts=opts.LabelOpts(\n",
    "            position=\"outside\",\n",
    "            formatter=\"{b|{b}: }{c}  {per|{d}%}  \",\n",
    "            background_color=\"#eee\",\n",
    "            border_color=\"#aaa\",\n",
    "            border_width=1,\n",
    "            border_radius=4,\n",
    "            rich={\n",
    "                \"b\": {\"fontSize\": 16, \"lineHeight\": 33},\n",
    "                \"per\": {\n",
    "                    \"color\": \"#eee\",\n",
    "                    \"backgroundColor\": \"#334455\",\n",
    "                    \"padding\": [2, 4],\n",
    "                    \"borderRadius\": 2,\n",
    "                },\n",
    "            },\n",
    "        ),\n",
    "    )\n",
    "    .set_global_opts(\n",
    "        title_opts=opts.TitleOpts(title=\"一级类别\"),\n",
    "    )\n",
    ")\n",
    "    # .render(\"./temp/pie_type_1.html\")"
   ]
  },
  {
   "cell_type": "markdown",
   "metadata": {},
   "source": [
    "> 二类图书类别统计"
   ]
  },
  {
   "cell_type": "code",
   "execution_count": null,
   "metadata": {},
   "outputs": [],
   "source": [
    "data_groupby_type_2 = data.groupby(['类别2'])\n",
    "\n",
    "type_2_book_group = np.array([np.insert(i, 0, i[1].shape[0]) for i in np.array([list(i) for i in list(data_groupby_type_2)], dtype=object)])\n",
    "type_2_book_group = type_2_book_group[type_2_book_group[:,0].argsort()][::-1]\n",
    "\n",
    "# 所有2级分类和分类下面的图书\n",
    "# type_2_book_group\n",
    "\n",
    "# 保留前5个分类下面的标签\n",
    "TYPE_2_COUNT = 5\n",
    "\n",
    "# 取出标签\n",
    "type_2_labels = [i[1] for i in type_2_book_group]\n",
    "type_2_count = [i[0] for i in type_2_book_group]"
   ]
  },
  {
   "cell_type": "code",
   "execution_count": null,
   "metadata": {},
   "outputs": [],
   "source": [
    "# 词云\n",
    "words = [tuple([item[0], item[1]]) for item in zip(type_2_labels, type_2_count)]\n",
    "\n",
    "wordcloud_type2 = (\n",
    "    WordCloud()\n",
    "    .add(\"\", words, word_size_range=[20, 80], shape=GLOBAL_WORDCLOUD_THEME, width=WORDCLOUD_WIDTH, height=WORDCLOUD_HEIGHT)\n",
    "    .set_global_opts(title_opts=opts.TitleOpts(title=\"\"))\n",
    ")\n",
    "    # .render(\"./temp/wordcould_type2.html\")"
   ]
  },
  {
   "cell_type": "code",
   "execution_count": null,
   "metadata": {},
   "outputs": [],
   "source": [
    "type_2_labels = type_2_labels[:TYPE_2_COUNT]\n",
    "type_2_labels.append('其他')\n",
    "temp = int(500 - np.sum(type_2_count[:TYPE_2_COUNT])) # 转换成int即可\n",
    "type_2_count = type_2_count[:TYPE_2_COUNT]\n",
    "type_2_count.append(temp)"
   ]
  },
  {
   "cell_type": "code",
   "execution_count": null,
   "metadata": {},
   "outputs": [],
   "source": [
    "pie_type_2 = (\n",
    "    Pie(\n",
    "        init_opts=opts.InitOpts(theme=GLOBAL_THEME, width=GLOBAL_WIDTH, height=GLOBAL_HEIGHT)\n",
    "    )\n",
    "    \n",
    "    .add(\n",
    "        \"\",\n",
    "        [list(z) for z in zip(type_2_labels, type_2_count)],\n",
    "        radius=[\"40%\", \"55%\"],\n",
    "        label_opts=opts.LabelOpts(\n",
    "            position=\"outside\",\n",
    "            formatter=\"{b|{b}: }{c}  {per|{d}%}  \",\n",
    "            background_color=\"#eee\",\n",
    "            border_color=\"#aaa\",\n",
    "            border_width=1,\n",
    "            border_radius=4,\n",
    "            rich={\n",
    "                \"b\": {\"fontSize\": 16, \"lineHeight\": 33},\n",
    "                \"per\": {\n",
    "                    \"color\": \"#eee\",\n",
    "                    \"backgroundColor\": \"#334455\",\n",
    "                    \"padding\": [2, 4],\n",
    "                    \"borderRadius\": 2,\n",
    "                },\n",
    "            },\n",
    "        ),\n",
    "    )\n",
    "    .set_global_opts(\n",
    "        title_opts=opts.TitleOpts(title=\"二级类别\"),\n",
    "    )\n",
    ")\n",
    "    # .render(\"./temp/pie_type_2.html\")"
   ]
  },
  {
   "cell_type": "markdown",
   "metadata": {},
   "source": [
    "> 热销图书的定价区间"
   ]
  },
  {
   "cell_type": "code",
   "execution_count": null,
   "metadata": {},
   "outputs": [],
   "source": [
    "# 价格区间以10为step\n",
    "data_modify_price = data\n",
    "data_modify_price = data_modify_price['价格'].apply(lambda x: int(float(x[1:]) / 10))\n",
    "data_with_price_df = data\n",
    "# 把价格修正为价格区间\n",
    "data_with_price_df['价格'] = data_modify_price"
   ]
  },
  {
   "cell_type": "code",
   "execution_count": null,
   "metadata": {},
   "outputs": [],
   "source": [
    "# 按照价格分组\n",
    "data_groupby_price = data_with_price_df.groupby(['价格'])\n",
    "price_book_group = np.array([np.insert(i, 0, i[1].shape[0]) for i in np.array([list(i) for i in list(data_groupby_price)], dtype=object)])\n",
    "price_book_group = price_book_group[price_book_group[:,0].argsort()][::-1]\n",
    "\n",
    "# 所有的价格区间和区间内的图书数量和内容\n",
    "# price_book_group"
   ]
  },
  {
   "cell_type": "code",
   "execution_count": null,
   "metadata": {},
   "outputs": [],
   "source": [
    "PRICE_COUNT = 10\n",
    "\n",
    "price_count = [i[0] for i in price_book_group]\n",
    "price_labels = [i[1] for i in price_book_group]\n",
    "\n",
    "price_labels = price_labels[:PRICE_COUNT]\n",
    "price_count = price_count[:PRICE_COUNT]\n",
    "\n",
    "# 规格化x轴标签\n",
    "price_labels = ['{0}0-{1}0'.format(i, i+1) for i in price_labels]\n",
    "temp = int(500 - np.sum(price_count[:PRICE_COUNT]))\n",
    "price_labels.append('其他')\n",
    "price_count.append(temp)"
   ]
  },
  {
   "cell_type": "code",
   "execution_count": null,
   "metadata": {},
   "outputs": [],
   "source": [
    "bar_price = (\n",
    "    Bar(init_opts=opts.InitOpts(theme=GLOBAL_THEME, width=GLOBAL_WIDTH, height=GLOBAL_HEIGHT))\n",
    "    .add_xaxis(price_labels)\n",
    "    .add_yaxis(\"数量\", price_count)\n",
    "    .set_global_opts(\n",
    "        title_opts=opts.TitleOpts(title=\"￥\"),\n",
    "        datazoom_opts=opts.DataZoomOpts(range_start=0, range_end=90),\n",
    "    )\n",
    ")\n",
    "    # .render(\"./temp/bar_price.html\")"
   ]
  },
  {
   "cell_type": "markdown",
   "metadata": {},
   "source": [
    "> 出版年份和时间排序"
   ]
  },
  {
   "cell_type": "code",
   "execution_count": null,
   "metadata": {},
   "outputs": [],
   "source": [
    "# 年份以年排序\n",
    "data_modify_date = data\n",
    "data_modify_date = data_modify_date['出版时间'].apply(lambda x: x[:4])\n",
    "data_with_date_df = data\n",
    "data_with_date_df['出版时间'] = data_modify_date"
   ]
  },
  {
   "cell_type": "code",
   "execution_count": null,
   "metadata": {},
   "outputs": [],
   "source": [
    "# 按照价格分组\n",
    "data_groupby_date = data_with_date_df.groupby(['出版时间'])\n",
    "date_book_group = np.array([np.insert(i, 0, i[1].shape[0]) for i in np.array([list(i) for i in list(data_groupby_date)], dtype=object)])\n",
    "date_book_group = date_book_group[date_book_group[:,0].argsort()][::-1]\n",
    "\n",
    "# 所有的价格区间和区间内的图书数量和内容\n",
    "# date_book_group"
   ]
  },
  {
   "cell_type": "code",
   "execution_count": null,
   "metadata": {},
   "outputs": [],
   "source": [
    "YEAR_COUNT = 10\n",
    "\n",
    "year_count = [i[0] for i in date_book_group]\n",
    "year_labels = [i[1] for i in date_book_group]\n",
    "\n",
    "year_labels = year_labels[:YEAR_COUNT]\n",
    "year_count = year_count[:YEAR_COUNT]\n",
    "\n",
    "# 规格化x轴标签\n",
    "temp = int(500 - np.sum(year_count[:YEAR_COUNT]))\n",
    "year_labels.append('其他')\n",
    "year_count.append(temp)"
   ]
  },
  {
   "cell_type": "code",
   "execution_count": null,
   "metadata": {},
   "outputs": [],
   "source": [
    "bar_year = (\n",
    "    Bar(init_opts=opts.InitOpts(theme=GLOBAL_THEME, width=GLOBAL_WIDTH, height=GLOBAL_HEIGHT))\n",
    "    .add_xaxis(year_labels)\n",
    "    .add_yaxis(\"数量\", year_count)\n",
    "    .set_global_opts(\n",
    "        title_opts=opts.TitleOpts(title=\"出版时间\"),\n",
    "        datazoom_opts=opts.DataZoomOpts(range_start=0, range_end=90),\n",
    "    )\n",
    ")\n",
    "    # .render(\"./temp/bar_year.html\")"
   ]
  },
  {
   "cell_type": "markdown",
   "metadata": {},
   "source": [
    "> 创建大屏数据展板"
   ]
  },
  {
   "cell_type": "code",
   "execution_count": null,
   "metadata": {},
   "outputs": [],
   "source": [
    "page = Page(layout=Page.DraggablePageLayout)\n",
    "page.add(\n",
    "    table_comment_top,\n",
    "    bar_comment_top,\n",
    "    pie_publisher,\n",
    "    wordcloud_publisher,\n",
    "    pie_type_1,\n",
    "    wordcloud_type1,\n",
    "    pie_type_2,\n",
    "    wordcloud_type2,\n",
    "    bar_price,\n",
    "    bar_year\n",
    ")\n",
    "page.save_resize_html(cfg_file='./temp/chart_config.json', source='./temp/dashboard.html', dest='./temp/dashboard_simplified.html')\n",
    "page.render(\"./temp/dashboard.html\")"
   ]
  },
  {
   "cell_type": "code",
   "execution_count": null,
   "metadata": {},
   "outputs": [],
   "source": []
  }
 ],
 "metadata": {
  "interpreter": {
   "hash": "344437c0be3283926a8297f965ec43df1c136f942b85e9e735910d59a6983e30"
  },
  "kernelspec": {
   "display_name": "Python 3.9.7 ('base')",
   "language": "python",
   "name": "python3"
  },
  "language_info": {
   "codemirror_mode": {
    "name": "ipython",
    "version": 3
   },
   "file_extension": ".py",
   "mimetype": "text/x-python",
   "name": "python",
   "nbconvert_exporter": "python",
   "pygments_lexer": "ipython3",
   "version": "3.9.7"
  },
  "orig_nbformat": 4
 },
 "nbformat": 4,
 "nbformat_minor": 2
}
